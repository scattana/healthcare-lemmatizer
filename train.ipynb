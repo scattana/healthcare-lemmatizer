{
 "cells": [
  {
   "cell_type": "code",
   "execution_count": 1,
   "metadata": {},
   "outputs": [],
   "source": [
    "import csv\n"
   ]
  },
  {
   "cell_type": "code",
   "execution_count": 119,
   "metadata": {},
   "outputs": [],
   "source": [
    "with open(\"lemma_mappings.txt\") as file:\n",
    "    items = file.readlines()\n",
    "items = [item.lstrip('\\t').rstrip(',\\n').split(':') for item in items if len(item) > 1]\n",
    "\n",
    "for item in items:\n",
    "    item[0] = item[0].replace('\\'','').lstrip('(').rstrip(')').split(', ')\n",
    "    item[1] = item[1].replace('\\'','')"
   ]
  },
  {
   "cell_type": "code",
   "execution_count": 139,
   "metadata": {},
   "outputs": [
    {
     "name": "stdout",
     "output_type": "stream",
     "text": [
      "drainable\n",
      "ble\n",
      "\n",
      "ble\n",
      "able\n",
      "nable\n",
      "inable\n",
      "ainable\n",
      "rainable\n",
      "drainable\n"
     ]
    }
   ],
   "source": [
    "print(items[0][1])\n",
    "print(items[0][1][-3:])\n",
    "print()\n",
    "\n",
    "for i in range(len(items[0][1])-2):\n",
    "    print(items[0][1][-3-i:]+'/'+items[0][])"
   ]
  },
  {
   "cell_type": "code",
   "execution_count": null,
   "metadata": {},
   "outputs": [],
   "source": [
    "rules = {}\n",
    "for item in items:\n",
    "    if item[0][0] == item[1]:\n",
    "        if len(item[1]) < 3:\n",
    "            continue\n",
    "        "
   ]
  },
  {
   "cell_type": "code",
   "execution_count": 113,
   "metadata": {},
   "outputs": [
    {
     "data": {
      "text/plain": [
       "[[['drainable', 'a'], 'drainable'],\n",
       " [['reformatted', 'v'], 'reformat'],\n",
       " [['offically', 'r'], 'officially'],\n",
       " [['medications', 'n'], 'medication'],\n",
       " [['tacrolimus', 'n'], 'tacrolimus'],\n",
       " [['neosinephrine', 'n'], 'neosinephrine'],\n",
       " [['anethesiologist', 'n'], 'anethesiologist'],\n",
       " [['coloanal', 'a'], 'coloanal'],\n",
       " [['hemifields,n'], 'hemifield'],\n",
       " [['urosepsis', 'n'], 'urosepsis'],\n",
       " [['uroseptic', 'a'], 'uroseptic'],\n",
       " [['novolin', 'n'], 'novolin'],\n",
       " [['rheumatology', 'n'], 'rheumatology'],\n",
       " [['portosystemic', 'a'], 'portosystemic'],\n",
       " [['hexavitamins', 'n'], 'hexavitamin'],\n",
       " [['subsalicylate', 'n'], 'subsalicylate'],\n",
       " [['reevaluated', 'v'], 'reevaluate'],\n",
       " [['enterobacter', 'n'], 'enterobacter'],\n",
       " [['arousable', 'a'], 'arousable'],\n",
       " [['resuscitated', 'v'], 'resuscitate'],\n",
       " [['stabilizing', 'v'], 'stabilize'],\n",
       " [['stabilizing', 'a'], 'stabilizing'],\n",
       " [['stabilized', 'v'], 'stabilize'],\n",
       " [['facetectomies', 'n'], 'facetectomy'],\n",
       " [['capsules', 'n'], 'capsule'],\n",
       " [['consulted', 'v'], 'consult'],\n",
       " [['consulting', 'a'], 'consulting'],\n",
       " [['consulting', 'v'], 'consult'],\n",
       " [['hemolyzed', 'v'], 'hemolyze'],\n",
       " [['hemolysis', 'n'], 'hemolysis'],\n",
       " [['endomyocardial', 'a'], 'endomyocardial'],\n",
       " [['clonidine', 'n'], 'clonidine'],\n",
       " [['reaccumulation', 'n'], 'reaccumulation'],\n",
       " [['particularly', 'r'], 'particularly'],\n",
       " [['would', 'v'], 'will'],\n",
       " [['aortic', 'a'], 'aortic'],\n",
       " [['presumed', 'v'], 'presume'],\n",
       " [['presumed', 'a'], 'presumed'],\n",
       " [['jugulovenous', 'a'], 'jugulovenous'],\n",
       " [['gastrojejunostomy', 'n'], 'gastrojejunostomy'],\n",
       " [['vicodin', 'n'], 'vicodin'],\n",
       " [['occpational', 'a'], 'occpational'],\n",
       " [['echymotic', 'a'], 'echymotic'],\n",
       " [['albuterol', 'n'], 'albuterol'],\n",
       " [['endarterectomy', 'n'], 'endarterectomy'],\n",
       " [['aneurysmectomy', 'n'], 'aneurysmectomy'],\n",
       " [['pseudomonas', 'n'], 'pseudomonas'],\n",
       " [['ertapenem', 'n'], 'ertapenem'],\n",
       " [['laryngeal', 'a'], 'laryngeal'],\n",
       " [['practitioner', 'n'], 'practitioner'],\n",
       " [['peribronchovascular', 'a'], 'peribronchovascular'],\n",
       " [['tranfusions', 'n'], 'tranfusion'],\n",
       " [['intracardiac', 'a'], 'intracardiac'],\n",
       " [['rescanned', 'v'], 'rescan'],\n",
       " [['sucharachnoid', 'n'], 'sucharachnoid'],\n",
       " [['perirenal', 'a'], 'perirenal'],\n",
       " [['perinephric', 'a'], 'perinephric'],\n",
       " [['serotype', 'n'], 'serotype'],\n",
       " [['serotype', 'v'], 'serotype'],\n",
       " [['serotypes', 'v'], 'serotype'],\n",
       " [['unfiltered', 'a'], 'unfiltered'],\n",
       " [['filtered', 'a'], 'filtered'],\n",
       " [['filtered', 'v'], 'filter'],\n",
       " [['alzheimer', 'a'], 'alzheimer'],\n",
       " [['alzheimers', 'a'], 'alzheimers'],\n",
       " [['rhematic', 'a'], 'rhematic'],\n",
       " [['hemorrage', 'n'], 'hemorrage'],\n",
       " [['bactroban', 'n'], 'bactroban'],\n",
       " [['benztropine', 'n'], 'benztropine'],\n",
       " [['compensates', 'v'], 'compensate'],\n",
       " [['compensated', 'v'], 'compensate'],\n",
       " [['dysmorphic', 'a'], 'dysmorphic'],\n",
       " [['bifascicular', 'a'], 'bifascicular'],\n",
       " [['bifascicular', 'n'], 'bifascicular'],\n",
       " [['shortly', 'r'], 'shortly'],\n",
       " [['duodenitis', 'n'], 'duodenitis'],\n",
       " [['nondilated', 'a'], 'nondilated'],\n",
       " [['dilated', 'v'], 'dialate'],\n",
       " [['seroquel', 'a'], 'seroquel'],\n",
       " [['fundoscopic', 'a'], 'fundoscopic'],\n",
       " [['thymic', 'a'], 'thymic'],\n",
       " [['mineralization', 'n'], 'mineralization'],\n",
       " [['mineralizations', 'n'], 'mineralization'],\n",
       " [['transferred', 'v'], 'transfer'],\n",
       " [['transfers', 'v'], 'transfer'],\n",
       " [['transfers', 'n'], 'transfer'],\n",
       " [['noncoronary', 'a'], 'noncoronary'],\n",
       " [['succinated', 'v'], 'succinate'],\n",
       " [['duodenojejunostomy', 'n'], 'duodenojejunostomy'],\n",
       " [['prevascular', 'a'], 'prevascular'],\n",
       " [['nonreversed', 'a'], 'nonreversed'],\n",
       " [['prescribed', 'a'], 'prescribed'],\n",
       " [['prescribed', 'v'], 'prescribe'],\n",
       " [['prescribes', 'v'], 'prescribe'],\n",
       " [['infrarenal', 'a'], 'infrarenal'],\n",
       " [['multilobular', 'a'], 'multilobular'],\n",
       " [['cardioembolic', 'a'], 'cardioembolic'],\n",
       " [['cardioembolic', 'n'], 'cardioembolic'],\n",
       " [['toprolxl', 'n'], 'toprolxl'],\n",
       " [['bisocodyl', 'n'], 'bisocodyl'],\n",
       " [['zyrtec', 'n'], 'zyrtec'],\n",
       " [['siagnostic', 'a'], 'siagnostic']]"
      ]
     },
     "execution_count": 113,
     "metadata": {},
     "output_type": "execute_result"
    }
   ],
   "source": []
  },
  {
   "cell_type": "code",
   "execution_count": null,
   "metadata": {},
   "outputs": [],
   "source": []
  }
 ],
 "metadata": {
  "kernelspec": {
   "display_name": "Python 3",
   "language": "python",
   "name": "python3"
  },
  "language_info": {
   "codemirror_mode": {
    "name": "ipython",
    "version": 3
   },
   "file_extension": ".py",
   "mimetype": "text/x-python",
   "name": "python",
   "nbconvert_exporter": "python",
   "pygments_lexer": "ipython3",
   "version": "3.6.8"
  }
 },
 "nbformat": 4,
 "nbformat_minor": 2
}
