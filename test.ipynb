{
 "cells": [
  {
   "cell_type": "code",
   "execution_count": 7,
   "metadata": {},
   "outputs": [
    {
     "data": {
      "text/html": [
       "<style>.container { width:98% !important; }</style>"
      ],
      "text/plain": [
       "<IPython.core.display.HTML object>"
      ]
     },
     "metadata": {},
     "output_type": "display_data"
    }
   ],
   "source": [
    "from IPython.core.display import display, HTML\n",
    "display(HTML(\"<style>.container { width:98% !important; }</style>\"))\n",
    "import pandas as pd\n",
    "import numpy as np\n",
    "import scipy as sp\n",
    "import datetime\n",
    "import matplotlib.pyplot as plt\n",
    "import math\n",
    "import re\n",
    "import csv\n",
    "import pickle\n",
    "\n",
    "# the following are NLTK and WordNet packages for the baseline method:\n",
    "#from __future__ import unicode_literals\n",
    "from nltk.corpus.reader.wordnet import NOUN\n",
    "from nltk.corpus import wordnet as wn\n",
    "from nltk.compat import python_2_unicode_compatible\n",
    "from nltk.stem import WordNetLemmatizer\n",
    "from nltk.tokenize import WordPunctTokenizer\n",
    "import nltk\n",
    "\n",
    "%matplotlib inline"
   ]
  },
  {
   "cell_type": "code",
   "execution_count": 2,
   "metadata": {},
   "outputs": [],
   "source": [
    "# the following is based on the source code provided for WordNet Lemmatizer (see report)\n",
    "class WordNetLemmatizer(object):\n",
    "    def __init__(self):\n",
    "        pass\n",
    "    \n",
    "    def lemmatize(self, word, pos=NOUN):\n",
    "        lemmas = wn._morphy(word, pos)\n",
    "        return min(lemmas, key=len) if lemmas else word\n",
    "    \n",
    "    def __rept__(self):\n",
    "        return '<WordNetLemmatizer>'\n",
    "    \n",
    "    # unload wordnet\n",
    "    def teardown_module(module=None):\n",
    "        from nltk.corpus import wordnet\n",
    "        wn._unload()"
   ]
  },
  {
   "cell_type": "code",
   "execution_count": 3,
   "metadata": {},
   "outputs": [],
   "source": [
    "# test wordnet lemmatizer\n",
    "wnl = WordNetLemmatizer()"
   ]
  },
  {
   "cell_type": "code",
   "execution_count": 4,
   "metadata": {},
   "outputs": [],
   "source": [
    "# create mappings between Penn treebank and WordNet POS tags:\n",
    "tag_map = {\n",
    "        'CC':None, # coordin. conjunction (and, but, or)  \n",
    "        'CD':wn.NOUN, # cardinal number (one, two)             \n",
    "        'DT':None, # determiner (a, the)                    \n",
    "        'EX':wn.ADV, # existential ‘there’ (there)           \n",
    "        'FW':None, # foreign word (mea culpa)             \n",
    "        'IN':wn.ADV, # preposition/sub-conj (of, in, by)   \n",
    "        'JJ':wn.ADJ, # adjective (yellow)                  \n",
    "        'JJR':wn.ADJ, # adj., comparative (bigger)          \n",
    "        'JJS':wn.ADJ, # adj., superlative (wildest)           \n",
    "        'LS':None, # list item marker (1, 2, One)          \n",
    "        'MD':None, # modal (can, should)                    \n",
    "        'NN':wn.NOUN, # noun, sing. or mass (llama)          \n",
    "        'NNS':wn.NOUN, # noun, plural (llamas)                  \n",
    "        'NNP':wn.NOUN, # proper noun, sing. (IBM)              \n",
    "        'NNPS':wn.NOUN, # proper noun, plural (Carolinas)\n",
    "        'PDT':wn.ADJ, # predeterminer (all, both)            \n",
    "        'POS':None, # possessive ending (’s )               \n",
    "        'PRP':None, # personal pronoun (I, you, he)     \n",
    "        'PRP$':None, # possessive pronoun (your, one’s)    \n",
    "        'RB':wn.ADV, # adverb (quickly, never)            \n",
    "        'RBR':wn.ADV, # adverb, comparative (faster)        \n",
    "        'RBS':wn.ADV, # adverb, superlative (fastest)     \n",
    "        'RP':wn.ADJ, # particle (up, off)\n",
    "        'SYM':None, # symbol (+,%, &)\n",
    "        'TO':None, # “to” (to)\n",
    "        'UH':None, # interjection (ah, oops)\n",
    "        'VB':wn.VERB, # verb base form (eat)\n",
    "        'VBD':wn.VERB, # verb past tense (ate)\n",
    "        'VBG':wn.VERB, # verb gerund (eating)\n",
    "        'VBN':wn.VERB, # verb past participle (eaten)\n",
    "        'VBP':wn.VERB, # verb non-3sg pres (eat)\n",
    "        'VBZ':wn.VERB, # verb 3sg pres (eats)\n",
    "        'WDT':None, # wh-determiner (which, that)\n",
    "        'WP':None, # wh-pronoun (what, who)\n",
    "        'WP$':None, # possessive (wh- whose)\n",
    "        'WRB':None, # wh-adverb (how, where)\n",
    "        '$':None, #  dollar sign ($)\n",
    "        '#':None, # pound sign (#)\n",
    "        '“':None, # left quote (‘ or “)\n",
    "        '”':None, # right quote (’ or ”)\n",
    "        '(':None, # left parenthesis ([, (, {, <)\n",
    "        ')':None, # right parenthesis (], ), }, >)\n",
    "        ',':None, # comma (,)\n",
    "        '.':None, # sentence-final punc (. ! ?)\n",
    "        ':':None, # miandd-sentence punc (: ; ... – -)\n",
    "        \"''\":None  # edge case\n",
    "    }"
   ]
  },
  {
   "cell_type": "code",
   "execution_count": 57,
   "metadata": {},
   "outputs": [],
   "source": [
    "# load data\n",
    "charts = pd.read_csv(\"NOTEEVENTS.csv\", dtype={\"ROW_ID\":\"int64\", \"CHARTTIME\":\"str\", \"STORETIME\":\"str\"})\n",
    "notes_df = charts[['TEXT']]"
   ]
  },
  {
   "cell_type": "markdown",
   "metadata": {},
   "source": [
    "#### Complete initial preprocessing and append tokens to list"
   ]
  },
  {
   "cell_type": "code",
   "execution_count": 86,
   "metadata": {},
   "outputs": [],
   "source": [
    "# preprocessing: for patients 1 through \"limit,\" split notes by token (on newline and space characters) to create a list of lists\n",
    "# additional preprocessing: remove tokens that contain a digit\n",
    "limit = 100\n",
    "base = 1000\n",
    "notes = []\n",
    "for note in notes_df['TEXT'][base:base+limit]:\n",
    "    notes.append([token for token in re.split(r'[\\n ]', note) if token != '' and not bool(re.search(r'\\d', token)) and not bool(re.search(r'\\W', token))])"
   ]
  },
  {
   "cell_type": "markdown",
   "metadata": {},
   "source": [
    "#### load and create the model generated by `train.ipynb`"
   ]
  },
  {
   "cell_type": "code",
   "execution_count": 87,
   "metadata": {},
   "outputs": [],
   "source": [
    "with open(\"model.txt\", \"rb\") as in_file:\n",
    "    model = pickle.load(in_file)\n",
    "rules = []\n",
    "for item in model:\n",
    "    temp = item[0].split('/')\n",
    "    temp.append(item[1][0])\n",
    "    rules.append(temp)"
   ]
  },
  {
   "cell_type": "code",
   "execution_count": 88,
   "metadata": {},
   "outputs": [],
   "source": [
    "#rules"
   ]
  },
  {
   "cell_type": "markdown",
   "metadata": {},
   "source": [
    "#### Evaluate model performance by tracking different counts (used later to calculate performance metrics - lemmatized percentage, accuracy of lemmatizer, etc.)"
   ]
  },
  {
   "cell_type": "code",
   "execution_count": 89,
   "metadata": {},
   "outputs": [
    {
     "name": "stdout",
     "output_type": "stream",
     "text": [
      "1734 2048\n"
     ]
    }
   ],
   "source": [
    "wn_unchanged = 0\n",
    "wn_changed = 0\n",
    "wn_unfound = 0\n",
    "my_changed = 0\n",
    "my_unchanged = 0\n",
    "lemmatized_list = []\n",
    "\n",
    "for item in notes:\n",
    "    tagged = nltk.pos_tag(item)\n",
    "    for tup in tagged:\n",
    "        # preprocessing: skip all-caps terms, one-char tokens, terms w/o WordNet POS tag, and prepositions (\"of\", \"with\", ...)\n",
    "        if len(tup[0])==1 or tup[0].isupper() or tag_map[tup[1]] is None or tup[1] == \"IN\":\n",
    "            continue\n",
    "        orig = tup[0].lower()    # all add'n terms, make universally lowercase\n",
    "        pos = tag_map[tup[1]]\n",
    "        # differentiate b/t words FOUND and NOT FOUND by WordNet lemmatization tool:\n",
    "        if wn.synsets(orig):\n",
    "            if wnl.lemmatize(orig, pos=pos)==orig:\n",
    "                wn_unchanged += 1\n",
    "            else:\n",
    "                wn_changed += 1\n",
    "        else:\n",
    "            wn_unfound += 1\n",
    "            # since \"model\" is sorted in \"train.ipynb\", rules should be checked in their given order\n",
    "            found_rule = False\n",
    "            for rule in rules:\n",
    "                if orig.endswith(rule[0]) and pos==rule[1]:\n",
    "                    lem = orig[:-len(rule[0])]+rule[2]\n",
    "                    #print('lemmatizing '+orig+' to: '+lem)\n",
    "                    my_changed += 1\n",
    "                    lemmatized_list.append([orig, pos, lem])\n",
    "                    found_rule = True\n",
    "                    break   # to prevent trying to lemmatize an already-lemmatized token\n",
    "            if not found_rule:\n",
    "                #print('no rule to lemmatize '+orig)\n",
    "                my_unchanged += 1\n",
    "print(my_changed, my_unchanged)"
   ]
  },
  {
   "cell_type": "code",
   "execution_count": 90,
   "metadata": {},
   "outputs": [],
   "source": [
    "#lemmatized_list"
   ]
  },
  {
   "cell_type": "markdown",
   "metadata": {},
   "source": [
    "#### check if lemmatized words were lemmatized correctly by comparing to \"gold standard\" (created by hand using training data from `generate.ipynb`)"
   ]
  },
  {
   "cell_type": "code",
   "execution_count": 91,
   "metadata": {},
   "outputs": [],
   "source": [
    "# first, open file and format lemma mappings:\n",
    "with open(\"lemma_mappings.txt\") as file:\n",
    "    items = file.readlines()\n",
    "items = [item.lstrip('\\t').rstrip(',\\n').split(':') for item in items if len(item) > 1]\n",
    "\n",
    "lms = {}\n",
    "for item in items:\n",
    "    temp = []\n",
    "    item[0] = item[0].replace('\\'','').lstrip('(').rstrip(')').split(', ')\n",
    "    item[1] = item[1].replace('\\'','')\n",
    "    lms[item[0][0]+'/'+item[0][1]] = item[1]\n",
    "  "
   ]
  },
  {
   "cell_type": "code",
   "execution_count": 92,
   "metadata": {},
   "outputs": [
    {
     "name": "stdout",
     "output_type": "stream",
     "text": [
      "found intracardiac/a\n",
      "found intracardiac/a\n",
      "found reformatted/v\n",
      "found drainable/a\n",
      "found drainable/a\n",
      "found neosinephrine/n\n",
      "found infrarenal/a\n",
      "found reformatted/v\n",
      "found arousable/a\n",
      "found reaccumulation/n\n",
      "found reaccumulation/n\n",
      "found tacrolimus/n\n",
      "found enterobacter/n\n",
      "found arousable/a\n",
      "found arousable/a\n",
      "found drainable/a\n",
      "found reaccumulation/n\n",
      "found arousable/a\n"
     ]
    }
   ],
   "source": [
    "# next, check if lemma mapping exists in gold standard. if so, check for accuracy\n",
    "for item in lemmatized_list:\n",
    "    if item[0]+'/'+item[1] in lms:\n",
    "        print('found '+item[0]+'/'+item[1])\n",
    "    "
   ]
  },
  {
   "cell_type": "code",
   "execution_count": null,
   "metadata": {},
   "outputs": [],
   "source": []
  }
 ],
 "metadata": {
  "kernelspec": {
   "display_name": "Python 3",
   "language": "python",
   "name": "python3"
  },
  "language_info": {
   "codemirror_mode": {
    "name": "ipython",
    "version": 3
   },
   "file_extension": ".py",
   "mimetype": "text/x-python",
   "name": "python",
   "nbconvert_exporter": "python",
   "pygments_lexer": "ipython3",
   "version": "3.6.8"
  }
 },
 "nbformat": 4,
 "nbformat_minor": 2
}
