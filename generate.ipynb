{
 "cells": [
  {
   "cell_type": "code",
   "execution_count": 2,
   "metadata": {},
   "outputs": [
    {
     "data": {
      "text/html": [
       "<style>.container { width:98% !important; }</style>"
      ],
      "text/plain": [
       "<IPython.core.display.HTML object>"
      ]
     },
     "metadata": {},
     "output_type": "display_data"
    }
   ],
   "source": [
    "from IPython.core.display import display, HTML\n",
    "display(HTML(\"<style>.container { width:98% !important; }</style>\"))\n",
    "import pandas as pd\n",
    "import numpy as np\n",
    "import scipy as sp\n",
    "import datetime\n",
    "import matplotlib.pyplot as plt\n",
    "import math\n",
    "import re\n",
    "import csv\n",
    "\n",
    "# the following are NLTK and WordNet packages for the baseline method:\n",
    "#from __future__ import unicode_literals\n",
    "from nltk.corpus.reader.wordnet import NOUN\n",
    "from nltk.corpus import wordnet as wn\n",
    "from nltk.compat import python_2_unicode_compatible\n",
    "from nltk.stem import WordNetLemmatizer\n",
    "from nltk.tokenize import WordPunctTokenizer\n",
    "import nltk\n",
    "\n",
    "%matplotlib inline"
   ]
  },
  {
   "cell_type": "markdown",
   "metadata": {},
   "source": [
    "#### \"WordNetLemmatizer\" is based on open-source code (https://www.nltk.org/_modules/nltk/stem/wordnet.html) and used as a baseline to compare lemmatization rates"
   ]
  },
  {
   "cell_type": "code",
   "execution_count": 3,
   "metadata": {},
   "outputs": [],
   "source": [
    "class WordNetLemmatizer(object):\n",
    "    def __init__(self):\n",
    "        pass\n",
    "    \n",
    "    def lemmatize(self, word, pos=NOUN):\n",
    "        lemmas = wn._morphy(word, pos)\n",
    "        return min(lemmas, key=len) if lemmas else word\n",
    "    \n",
    "    def __rept__(self):\n",
    "        return '<WordNetLemmatizer>'\n",
    "    \n",
    "    # unload wordnet\n",
    "    def teardown_module(module=None):\n",
    "        from nltk.corpus import wordnet\n",
    "        wn._unload()"
   ]
  },
  {
   "cell_type": "code",
   "execution_count": 4,
   "metadata": {},
   "outputs": [],
   "source": [
    "# create WordNet Lemmatizer object:\n",
    "wnl = WordNetLemmatizer()"
   ]
  },
  {
   "cell_type": "markdown",
   "metadata": {},
   "source": [
    "#### Qualitative observations suggested the NLTK POS tagging tool (which generates Penn Treebank tags) is more accurate than the WordNet POS tagging tool (which uses its own POS format, a simplified version of Penn Treebank). In order to use the NLTK POS tagging tool with WordNet's lemmatizer, the following dict provides mappings between Penn Treebank >> NLTK POS tags\n",
    "\n",
    "#### These mappings are based on code provided on Stack Overflow (modifications were made to account for edge cases):\n",
    "https://stackoverflow.com/questions/5364493/lemmatizing-pos-tagged-words-with-nltk/5365755"
   ]
  },
  {
   "cell_type": "code",
   "execution_count": 5,
   "metadata": {},
   "outputs": [],
   "source": [
    "# create mappings between Penn treebank and WordNet POS tags:\n",
    "tag_map = {\n",
    "        'CC':None, # coordin. conjunction (and, but, or)  \n",
    "        'CD':wn.NOUN, # cardinal number (one, two)             \n",
    "        'DT':None, # determiner (a, the)                    \n",
    "        'EX':wn.ADV, # existential ‘there’ (there)           \n",
    "        'FW':None, # foreign word (mea culpa)             \n",
    "        'IN':wn.ADV, # preposition/sub-conj (of, in, by)   \n",
    "        'JJ':wn.ADJ, # adjective (yellow)                  \n",
    "        'JJR':wn.ADJ, # adj., comparative (bigger)          \n",
    "        'JJS':wn.ADJ, # adj., superlative (wildest)           \n",
    "        'LS':None, # list item marker (1, 2, One)          \n",
    "        'MD':None, # modal (can, should)                    \n",
    "        'NN':wn.NOUN, # noun, sing. or mass (llama)          \n",
    "        'NNS':wn.NOUN, # noun, plural (llamas)                  \n",
    "        'NNP':wn.NOUN, # proper noun, sing. (IBM)              \n",
    "        'NNPS':wn.NOUN, # proper noun, plural (Carolinas)\n",
    "        'PDT':wn.ADJ, # predeterminer (all, both)            \n",
    "        'POS':None, # possessive ending (’s )               \n",
    "        'PRP':None, # personal pronoun (I, you, he)     \n",
    "        'PRP$':None, # possessive pronoun (your, one’s)    \n",
    "        'RB':wn.ADV, # adverb (quickly, never)            \n",
    "        'RBR':wn.ADV, # adverb, comparative (faster)        \n",
    "        'RBS':wn.ADV, # adverb, superlative (fastest)     \n",
    "        'RP':wn.ADJ, # particle (up, off)\n",
    "        'SYM':None, # symbol (+,%, &)\n",
    "        'TO':None, # “to” (to)\n",
    "        'UH':None, # interjection (ah, oops)\n",
    "        'VB':wn.VERB, # verb base form (eat)\n",
    "        'VBD':wn.VERB, # verb past tense (ate)\n",
    "        'VBG':wn.VERB, # verb gerund (eating)\n",
    "        'VBN':wn.VERB, # verb past participle (eaten)\n",
    "        'VBP':wn.VERB, # verb non-3sg pres (eat)\n",
    "        'VBZ':wn.VERB, # verb 3sg pres (eats)\n",
    "        'WDT':None, # wh-determiner (which, that)\n",
    "        'WP':None, # wh-pronoun (what, who)\n",
    "        'WP$':None, # possessive (wh- whose)\n",
    "        'WRB':None, # wh-adverb (how, where)\n",
    "        '$':None, #  dollar sign ($)\n",
    "        '#':None, # pound sign (#)\n",
    "        '“':None, # left quote (‘ or “)\n",
    "        '”':None, # right quote (’ or ”)\n",
    "        '(':None, # left parenthesis ([, (, {, <)\n",
    "        ')':None, # right parenthesis (], ), }, >)\n",
    "        ',':None, # comma (,)\n",
    "        '.':None, # sentence-final punc (. ! ?)\n",
    "        ':':None, # miandd-sentence punc (: ; ... – -)\n",
    "        \"''\":None  # edge case\n",
    "    }"
   ]
  },
  {
   "cell_type": "markdown",
   "metadata": {},
   "source": [
    "#### The next cell takes several (~3-5) minutes to execute - needs to read in a 4 gb file of patient note data\n",
    "\n",
    "#### NOTE: I can't provide this dataset (\"NOTEEVENTS.csv\") publically via GitHub, as it comes from the MIMIC-III database, a protected database of patient data. See the following link for more information (https://physionet.org/physiobank/database/mimic3cdb/)\n",
    "\n",
    "#### However, the format of this file is given in my report (report.pdf in my GitHub repo, https://github.com/scattana/healthcare-lemmatizer) and any .csv file with the same format (columns and data types) should be compatible. "
   ]
  },
  {
   "cell_type": "code",
   "execution_count": 6,
   "metadata": {},
   "outputs": [],
   "source": [
    "# load data\n",
    "charts = pd.read_csv(\"NOTEEVENTS.csv\", dtype={\"ROW_ID\":\"int64\", \"CHARTTIME\":\"str\", \"STORETIME\":\"str\"})"
   ]
  },
  {
   "cell_type": "code",
   "execution_count": 7,
   "metadata": {
    "scrolled": true
   },
   "outputs": [],
   "source": [
    "#charts\n",
    "notes_df = charts[['TEXT']]\n"
   ]
  },
  {
   "cell_type": "code",
   "execution_count": 8,
   "metadata": {},
   "outputs": [],
   "source": [
    "# preprocessing: for patients 1 through \"limit,\" split notes by token (on newline and space characters) to create a list of lists\n",
    "# additional preprocessing: remove tokens that contain a digit\n",
    "limit = 1000\n",
    "notes = []\n",
    "for note in notes_df['TEXT'][:limit]:\n",
    "    notes.append([token for token in re.split(r'[\\n ]', note) if token != '' and not bool(re.search(r'\\d', token)) and not bool(re.search(r'\\W', token))])\n"
   ]
  },
  {
   "cell_type": "markdown",
   "metadata": {},
   "source": [
    "#### The following cell performs some additional text preprocessing, then tries to lemmatize tokens using the WordNet Lemmatizer. If the token is not found, it is added to a list of undetermined lemmas; I used this list to create a dataset of lemma mappings by hand (lemma-mappings.txt in my GitHub repo, https://github.com/scattana/healthcare-lemmatizer), and my healthcare lemmatizer was trained using these lemma mappings"
   ]
  },
  {
   "cell_type": "code",
   "execution_count": 9,
   "metadata": {},
   "outputs": [
    {
     "name": "stdout",
     "output_type": "stream",
     "text": [
      "Unchanged: 510266\n",
      "Changed: 164968\n",
      "Total number of tokens (after processing): 675234\n",
      "Number of (unique) tokens not found by WNL: 7496\n"
     ]
    }
   ],
   "source": [
    "unchanged = 0\n",
    "changed = 0\n",
    "not_found = set()\n",
    "for item in notes:\n",
    "    tagged = nltk.pos_tag(item)\n",
    "    for tup in tagged:\n",
    "        # preprocessing: skip all-caps terms (generally abbreviations or acronyms which will not have lemma mappings)\n",
    "        if tup[0].isupper():\n",
    "            continue\n",
    "        # preprocessing: skip all 1-letter tokens (only 'I' and 'A' are possible words, and those will have no lemmas)\n",
    "        if len(tup[0])==1:\n",
    "            continue\n",
    "        orig = tup[0].lower()    # all additional terms, make universally lowercase for more accurate POS tagging\n",
    "        if tag_map[tup[1]] is None:\n",
    "            # skip words that don't have a POS tag in WordNet(conjunctions, etc.)\n",
    "            continue\n",
    "        # preprocessing: skip prepositions (\"of\", \"with\", \"without\", etc.)\n",
    "        if tup[1] == \"IN\":\n",
    "            continue\n",
    "        if wnl.lemmatize(orig, pos=tag_map[tup[1]])==orig:\n",
    "            unchanged+=1\n",
    "            #print('{:<15}:\\t'.format(orig), tup[1])\n",
    "            if not wn.synsets(orig):\n",
    "                temp = (orig, tag_map[tup[1]])\n",
    "                not_found.add(temp)\n",
    "        else:\n",
    "            changed+=1\n",
    "            #print('{:<15}-->\\t\\t'.format(orig), wnl.lemmatize(orig, pos=tag_map[tup[1]]))\n",
    "\n",
    "print('Unchanged: '+str(unchanged)+'\\nChanged: '+str(changed))\n",
    "print('Total number of tokens (after processing): '+str(unchanged+changed))\n",
    "print('Number of (unique) tokens not found by WNL: '+str(len(not_found)))\n"
   ]
  },
  {
   "cell_type": "markdown",
   "metadata": {},
   "source": [
    "#### Lastly, the list of (unique) tokens not found by WordNet's lematizer is written to a text file and used to train a machine algorithm in `train.ipynb`"
   ]
  },
  {
   "cell_type": "code",
   "execution_count": 11,
   "metadata": {},
   "outputs": [],
   "source": [
    "# write list of words not found in WordNet to csv file\n",
    "with open('../undetermined_lemmas.txt', 'w') as file:\n",
    "    writer = csv.writer(file)\n",
    "    writer.writerow(not_found)"
   ]
  },
  {
   "cell_type": "code",
   "execution_count": null,
   "metadata": {},
   "outputs": [],
   "source": []
  }
 ],
 "metadata": {
  "kernelspec": {
   "display_name": "Python 3",
   "language": "python",
   "name": "python3"
  },
  "language_info": {
   "codemirror_mode": {
    "name": "ipython",
    "version": 3
   },
   "file_extension": ".py",
   "mimetype": "text/x-python",
   "name": "python",
   "nbconvert_exporter": "python",
   "pygments_lexer": "ipython3",
   "version": "3.6.8"
  }
 },
 "nbformat": 4,
 "nbformat_minor": 2
}
